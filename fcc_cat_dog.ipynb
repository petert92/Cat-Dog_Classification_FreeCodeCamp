{
  "cells": [
    {
      "cell_type": "markdown",
      "metadata": {
        "id": "view-in-github",
        "colab_type": "text"
      },
      "source": [
        "<a href=\"https://colab.research.google.com/github/petert92/Cat-Dog_Classification_FreeCodeCamp/blob/main/fcc_cat_dog.ipynb\" target=\"_parent\"><img src=\"https://colab.research.google.com/assets/colab-badge.svg\" alt=\"Open In Colab\"/></a>"
      ]
    },
    {
      "cell_type": "markdown",
      "source": [
        "# Cat and dog image classification\n",
        "As an exercise from the ML course from Free Code Camp I developed this model. The J notebook was provided from the course with some instructions and I completed the rest. Here is the assigment:\n",
        "}https://www.freecodecamp.org/learn/machine-learning-with-python/machine-learning-with-python-projects/cat-and-dog-image-classifier"
      ],
      "metadata": {
        "id": "ifJ2KOge9UOy"
      }
    },
    {
      "cell_type": "markdown",
      "metadata": {
        "id": "XeCllzC77-P5"
      },
      "source": [
        "The structure of the dataset files that are downloaded looks like this:\n",
        "```\n",
        "cats_and_dogs\n",
        "|__ train:\n",
        "    |______ cats: [cat.0.jpg, cat.1.jpg ...]\n",
        "    |______ dogs: [dog.0.jpg, dog.1.jpg ...]\n",
        "|__ validation:\n",
        "    |______ cats: [cat.2000.jpg, cat.2001.jpg ...]\n",
        "    |______ dogs: [dog.2000.jpg, dog.2001.jpg ...]\n",
        "|__ test: [1.jpg, 2.jpg ...]\n",
        "```"
      ]
    },
    {
      "cell_type": "code",
      "source": [
        "#@title Mount drive\n",
        "from google.colab import drive\n",
        "drive.mount('/content/drive/')"
      ],
      "metadata": {
        "id": "cZiesu_MpPow",
        "colab": {
          "base_uri": "https://localhost:8080/"
        },
        "outputId": "4494a325-34f3-4b92-f5d3-fdd361699c52"
      },
      "execution_count": 1,
      "outputs": [
        {
          "output_type": "stream",
          "name": "stdout",
          "text": [
            "Drive already mounted at /content/drive/; to attempt to forcibly remount, call drive.mount(\"/content/drive/\", force_remount=True).\n"
          ]
        }
      ]
    },
    {
      "cell_type": "code",
      "source": [
        "cd /content/drive/MyDrive/Codeing/FreeCodeCamp/Cat&Dog_classification"
      ],
      "metadata": {
        "id": "_8dplsY5pTGh",
        "colab": {
          "base_uri": "https://localhost:8080/"
        },
        "outputId": "7b950de4-41ce-4440-fa1d-553715a0abba"
      },
      "execution_count": 2,
      "outputs": [
        {
          "output_type": "stream",
          "name": "stdout",
          "text": [
            "/content/drive/MyDrive/Codeing/FreeCodeCamp/Cat&Dog_classification\n"
          ]
        }
      ]
    },
    {
      "cell_type": "code",
      "execution_count": null,
      "metadata": {
        "id": "la_Oz6oLlub6"
      },
      "outputs": [],
      "source": [
        "#@ Imports\n",
        "!pip install icecream\n",
        "try:\n",
        "  # This command only in Colab.\n",
        "  %tensorflow_version 2.x\n",
        "except Exception:\n",
        "  pass\n",
        "import tensorflow as tf\n",
        "\n",
        "from tensorflow.keras.models import Sequential\n",
        "from tensorflow.keras.layers import Dense, Conv2D, Flatten, Dropout, MaxPooling2D\n",
        "from tensorflow.keras.preprocessing.image import ImageDataGenerator\n",
        "\n",
        "import os\n",
        "import numpy as np\n",
        "import matplotlib.pyplot as plt\n",
        "from icecream import ic"
      ]
    },
    {
      "cell_type": "code",
      "execution_count": null,
      "metadata": {
        "id": "jaF8r6aOl48C",
        "colab": {
          "base_uri": "https://localhost:8080/"
        },
        "outputId": "22fde5c0-83ba-4dc7-ad35-308587a9f487"
      },
      "outputs": [
        {
          "output_type": "stream",
          "name": "stdout",
          "text": [
            "train: 2001 val: 1001 test: 2\n"
          ]
        }
      ],
      "source": [
        "#@title Get the data\n",
        "# Get project files\n",
        "!wget https://cdn.freecodecamp.org/project-data/cats-and-dogs/cats_and_dogs.zip\n",
        "\n",
        "!unzip cats_and_dogs.zip\n",
        "\n",
        "PATH = 'cats_and_dogs'\n",
        "\n",
        "train_dir = os.path.join(PATH, 'train')\n",
        "validation_dir = os.path.join(PATH, 'validation')\n",
        "test_dir = os.path.join(PATH, 'test')\n",
        "\n",
        "# Get number of files in each directory. The train and validation directories\n",
        "# each have the subdirecories \"dogs\" and \"cats\".\n",
        "total_train = sum([len(files) for r, d, files in os.walk(train_dir)])\n",
        "total_val = sum([len(files) for r, d, files in os.walk(validation_dir)])\n",
        "total_test = len(os.listdir(test_dir))\n",
        "print('train:',total_train, 'val:', total_val, 'test:', total_test)"
      ]
    },
    {
      "cell_type": "code",
      "source": [
        "#@title Hyperparameters\n",
        "# Variables for pre-processing and training.\n",
        "batch_size = 128\n",
        "epochs = 15\n",
        "IMG_HEIGHT = 150\n",
        "IMG_WIDTH = 150"
      ],
      "metadata": {
        "id": "oKU5IVaA-v5J"
      },
      "execution_count": null,
      "outputs": []
    },
    {
      "cell_type": "code",
      "execution_count": null,
      "metadata": {
        "id": "EOJFeEfumns6"
      },
      "outputs": [],
      "source": [
        "#title Preprocesing images\n",
        "train_image_generator = ImageDataGenerator(rescale=1./255.0)\n",
        "validation_image_generator = ImageDataGenerator(rescale=1./255.0)\n",
        "test_image_generator = ImageDataGenerator(rescale=1./255.0)\n",
        "\n",
        "train_data_gen = train_image_generator.flow_from_directory(train_dir, (IMG_HEIGHT, IMG_WIDTH), class_mode= 'binary', batch_size = batch_size)\n",
        "val_data_gen = validation_image_generator.flow_from_directory(validation_dir, (IMG_HEIGHT, IMG_WIDTH), class_mode= 'binary', batch_size = batch_size)\n",
        "test_data_gen = test_image_generator.flow_from_directory(test_dir, (IMG_HEIGHT, IMG_WIDTH), class_mode= 'binary', batch_size = batch_size, shuffle = False)"
      ]
    },
    {
      "cell_type": "markdown",
      "metadata": {
        "id": "77TvZVETP_b2"
      },
      "source": [
        "## Plot images\n",
        "The `plotImages` takes an array of images and a probabilities list, although the probabilities list is optional."
      ]
    },
    {
      "cell_type": "code",
      "execution_count": null,
      "metadata": {
        "id": "TP0WA8j1mt7Q"
      },
      "outputs": [],
      "source": [
        "def plotImages(images_arr, probabilities = False):\n",
        "    fig, axes = plt.subplots(len(images_arr), 1, figsize=(5,len(images_arr) * 3))\n",
        "    if probabilities is False:\n",
        "      for img, ax in zip( images_arr, axes):\n",
        "          ax.imshow(img)\n",
        "          ax.axis('off')\n",
        "    else:\n",
        "      for img, probability, ax in zip( images_arr, probabilities, axes):\n",
        "          ax.imshow(img)\n",
        "          ax.axis('off')\n",
        "          if probability > 0.5:\n",
        "              ax.set_title(\"%.2f\" % (probability*100) + \"% dog\")\n",
        "          else:\n",
        "              ax.set_title(\"%.2f\" % ((1-probability)*100) + \"% cat\")\n",
        "    plt.show()\n",
        "\n",
        "sample_training_images, _ = next(train_data_gen)\n",
        "plotImages(sample_training_images[:5])\n"
      ]
    },
    {
      "cell_type": "markdown",
      "source": [
        "## Image Data Augmentation\n",
        "Since there are a small number of training examples there is a risk of overfitting. One way to fix this problem is by creating more training data from existing training examples by using random transformations.\n",
        "\n",
        "Transformation parameters:\n",
        "- rescale (must)\n",
        "- rotation_range: tipacally used\n",
        "- witdth/height_shitf_range: some images are a small animal in the center\n",
        "- brightness_range: change the brightness as in real life\n",
        "- shear_range: perspectived view\n",
        "- zoom_range\n",
        "- horizontal_flip: mirror on vertical axe, no vertical cause it isn't a usual photo"
      ],
      "metadata": {
        "id": "XKs1uahStbDc"
      }
    },
    {
      "cell_type": "code",
      "execution_count": null,
      "metadata": {
        "id": "-32RRLY_3voj"
      },
      "outputs": [],
      "source": [
        "rescale=1./255.0\n",
        "rotation_range=15\n",
        "width_shift_range=0.1\n",
        "height_shift_range=0.1\n",
        "brightness_range=(0.5,1.5)\n",
        "shear_range= 15\n",
        "zoom_range= 0.2\n",
        "horizontal_flip=True\n",
        "\n",
        "train_image_generator = ImageDataGenerator(rescale=rescale, rotation_range=rotation_range, width_shift_range=width_shift_range, \\\n",
        "                                           height_shift_range=height_shift_range, brightness_range=brightness_range, \\\n",
        "                                           shear_range= shear_range, zoom_range= zoom_range, horizontal_flip= horizontal_flip)\n"
      ]
    },
    {
      "cell_type": "code",
      "execution_count": null,
      "metadata": {
        "id": "pkwq2LFvqabS"
      },
      "outputs": [],
      "source": [
        "# Plot some transformated images\n",
        "train_data_gen = train_image_generator.flow_from_directory(batch_size=batch_size,\n",
        "                                                     directory=train_dir,\n",
        "                                                     target_size=(IMG_HEIGHT, IMG_WIDTH),\n",
        "                                                     class_mode='binary')\n",
        "\n",
        "augmented_images = [train_data_gen[0][0][0] for i in range(5)]\n",
        "\n",
        "plotImages(augmented_images)"
      ]
    },
    {
      "cell_type": "markdown",
      "metadata": {
        "id": "wUPWeKtESzA9"
      },
      "source": [
        "## Model architecture\n",
        "\n",
        "Architecure taken from Machine Learning Mastery, Jason Brownlee. Modifications: one VGG block less because the dataset is small; jump from 32 kernels to 128.\n",
        "https://machinelearningmastery.com/how-to-develop-a-convolutional-neural-network-to-classify-photos-of-dogs-and-cats/"
      ]
    },
    {
      "cell_type": "code",
      "execution_count": null,
      "metadata": {
        "id": "k8aZkwMam4UY",
        "colab": {
          "base_uri": "https://localhost:8080/"
        },
        "outputId": "b4387ba2-7a95-44b0-aeb3-6ed1bc47a745"
      },
      "outputs": [
        {
          "output_type": "stream",
          "name": "stdout",
          "text": [
            "Model: \"sequential_3\"\n",
            "_________________________________________________________________\n",
            " Layer (type)                Output Shape              Param #   \n",
            "=================================================================\n",
            " conv2d_9 (Conv2D)           (None, 150, 150, 32)      896       \n",
            "                                                                 \n",
            " max_pooling2d_9 (MaxPooling  (None, 75, 75, 32)       0         \n",
            " 2D)                                                             \n",
            "                                                                 \n",
            " dropout_12 (Dropout)        (None, 75, 75, 32)        0         \n",
            "                                                                 \n",
            " conv2d_10 (Conv2D)          (None, 75, 75, 128)       36992     \n",
            "                                                                 \n",
            " max_pooling2d_10 (MaxPoolin  (None, 37, 37, 128)      0         \n",
            " g2D)                                                            \n",
            "                                                                 \n",
            " dropout_13 (Dropout)        (None, 37, 37, 128)       0         \n",
            "                                                                 \n",
            " flatten_3 (Flatten)         (None, 175232)            0         \n",
            "                                                                 \n",
            " dense_6 (Dense)             (None, 128)               22429824  \n",
            "                                                                 \n",
            " dropout_14 (Dropout)        (None, 128)               0         \n",
            "                                                                 \n",
            " dense_7 (Dense)             (None, 1)                 129       \n",
            "                                                                 \n",
            "=================================================================\n",
            "Total params: 22,467,841\n",
            "Trainable params: 22,467,841\n",
            "Non-trainable params: 0\n",
            "_________________________________________________________________\n"
          ]
        }
      ],
      "source": [
        "input_shape = (IMG_HEIGHT, IMG_WIDTH, 3)\n",
        "model = Sequential()\n",
        " # 1st block\n",
        "model.add(Conv2D(32, (3,3), padding='same', activation= 'relu', input_shape= input_shape))\n",
        "model.add(MaxPooling2D((2,2)))\n",
        "model.add(Dropout(0.2)) \n",
        "# 2nd block\n",
        "model.add(Conv2D(128, (3,3),  padding='same', activation= 'relu'))\n",
        "model.add(MaxPooling2D((2,2)))\n",
        "model.add(Dropout(0.2))\n",
        "\n",
        "model.add(Flatten())\n",
        "model.add(Dense(128, activation='relu'))\n",
        "model.add(Dropout(0.5))\n",
        "model.add(Dense(1, activation='sigmoid'))\n",
        "\n",
        "model.compile(optimizer= tf.keras.optimizers.Adam(learning_rate=1e-3), loss= tf.keras.losses.BinaryCrossentropy(), metrics= ['accuracy'])\n",
        "\n",
        "\n",
        "model.summary()"
      ]
    },
    {
      "cell_type": "markdown",
      "source": [
        "## Train and plot performance"
      ],
      "metadata": {
        "id": "SdS_fV7-BNKy"
      }
    },
    {
      "cell_type": "code",
      "execution_count": null,
      "metadata": {
        "id": "1niQDz5x6K7y"
      },
      "outputs": [],
      "source": [
        "history = model.fit(train_data_gen, steps_per_epoch=len(train_data_gen), epochs= epochs, validation_data=val_data_gen, validation_steps=len(val_data_gen))"
      ]
    },
    {
      "cell_type": "code",
      "execution_count": null,
      "metadata": {
        "id": "5xS51mB56OAC",
        "colab": {
          "base_uri": "https://localhost:8080/",
          "height": 499
        },
        "outputId": "66382453-45a3-4587-e1a1-842552fa3847"
      },
      "outputs": [
        {
          "output_type": "display_data",
          "data": {
            "image/png": "[encoded data removed]",
            "text/plain": [
              "<Figure size 576x576 with 2 Axes>"
            ]
          },
          "metadata": {
            "needs_background": "light"
          }
        }
      ],
      "source": [
        "acc = history.history['accuracy']\n",
        "val_acc = history.history['val_accuracy']\n",
        "\n",
        "loss = history.history['loss']\n",
        "val_loss = history.history['val_loss']\n",
        "\n",
        "epochs_range = range(epochs)\n",
        "\n",
        "plt.figure(figsize=(8, 8))\n",
        "plt.subplot(1, 2, 1)\n",
        "plt.plot(epochs_range, acc, label='Training Accuracy')\n",
        "plt.plot(epochs_range, val_acc, label='Validation Accuracy')\n",
        "plt.legend(loc='lower right')\n",
        "plt.title('Training and Validation Accuracy')\n",
        "\n",
        "plt.subplot(1, 2, 2)\n",
        "plt.plot(epochs_range, loss, label='Training Loss')\n",
        "plt.plot(epochs_range, val_loss, label='Validation Loss')\n",
        "plt.legend(loc='upper right')\n",
        "plt.title('Training and Validation Loss')\n",
        "plt.show()"
      ]
    },
    {
      "cell_type": "markdown",
      "metadata": {
        "id": "2bWrqi-usz3y"
      },
      "source": [
        "## Predictions\n",
        "Make predictions with test data and check if pass the challenge."
      ]
    },
    {
      "cell_type": "code",
      "execution_count": null,
      "metadata": {
        "id": "vYrSifOit2aK"
      },
      "outputs": [],
      "source": [
        "probabilities = model.predict(test_data_gen)\n",
        "probabilities[:5]\n",
        "plotImages(test_data_gen[0][0], probabilities)"
      ]
    },
    {
      "cell_type": "code",
      "execution_count": null,
      "metadata": {
        "id": "4IH86Ux_u7TZ",
        "colab": {
          "base_uri": "https://localhost:8080/"
        },
        "outputId": "76028e84-3229-4254-f4b2-ffa127ee3bdc"
      },
      "outputs": [
        {
          "output_type": "stream",
          "name": "stdout",
          "text": [
            "Your model correctly identified 0.7% of the images of cats and dogs.\n",
            "You passed the challenge!\n"
          ]
        }
      ],
      "source": [
        "answers =  [1, 0, 0, 1, 0, 0, 0, 0, 1, 1, 0,\n",
        "            1, 0, 1, 0, 1, 1, 0, 1, 1, 0, 0,\n",
        "            1, 1, 1, 1, 1, 0, 0, 0, 0, 0, 1,\n",
        "            1, 0, 1, 1, 1, 1, 0, 1, 0, 1, 1, \n",
        "            0, 0, 0, 0, 0, 0]\n",
        "\n",
        "correct = 0\n",
        "\n",
        "for probability, answer in zip(probabilities, answers):\n",
        "  if round(probability[0]) == answer:\n",
        "    correct +=1\n",
        "\n",
        "percentage_identified = (correct / len(answers))\n",
        "\n",
        "passed_challenge = percentage_identified > 0.63\n",
        "\n",
        "print(f\"Your model correctly identified {round(percentage_identified, 2)}% of the images of cats and dogs.\")\n",
        "\n",
        "if passed_challenge:\n",
        "  print(\"You passed the challenge!\")\n",
        "else:\n",
        "  print(\"You haven't passed yet. Your model should identify at least 63% of the images. Keep trying. You will get it!\")"
      ]
    },
    {
      "cell_type": "markdown",
      "source": [
        "## Notes\n",
        "I tried 3 differents hyperparameters:\n",
        "batchzise = 128 and 3x VGG blocks -> 70%\n",
        "batchzise = 64 and 3x VGG blocks -> 66%\n",
        "batchzise = 128 and 2x VGG blocks  -> 70%\n",
        "\n",
        "I didn't take more epochs because there aren't so many datapoints and I just wanna tried a few things without takeing too many time."
      ],
      "metadata": {
        "id": "Mi7vLXF73pMb"
      }
    }
  ],
  "metadata": {
    "colab": {
      "collapsed_sections": [],
      "name": "fcc_cat_dog.ipynb",
      "provenance": [],
      "toc_visible": true,
      "include_colab_link": true
    },
    "kernelspec": {
      "display_name": "Python 3",
      "name": "python3"
    }
  },
  "nbformat": 4,
  "nbformat_minor": 0
}